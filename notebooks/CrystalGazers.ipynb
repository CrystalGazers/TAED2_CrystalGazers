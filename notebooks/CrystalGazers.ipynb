{
 "cells": [
  {
   "cell_type": "code",
   "execution_count": 1,
   "metadata": {
    "_cell_guid": "b1076dfc-b9ad-4769-8c92-a6c4dae69d19",
    "_uuid": "8f2839f25d086af736a60e9eeb907d3b93b6e0e5",
    "execution": {
     "iopub.execute_input": "2021-02-17T13:02:52.298385Z",
     "iopub.status.busy": "2021-02-17T13:02:52.297704Z",
     "iopub.status.idle": "2021-02-17T13:02:53.693444Z",
     "shell.execute_reply": "2021-02-17T13:02:53.692214Z"
    },
    "papermill": {
     "duration": 1.417709,
     "end_time": "2021-02-17T13:02:53.693665",
     "exception": false,
     "start_time": "2021-02-17T13:02:52.275956",
     "status": "completed"
    },
    "tags": []
   },
   "outputs": [],
   "source": [
    "from types import SimpleNamespace\n",
    "from collections import Counter\n",
    "import os\n",
    "import re\n",
    "import pathlib\n",
    "import array\n",
    "import pickle\n",
    "import numpy as np\n",
    "import torch\n",
    "import torch.nn as nn\n",
    "import torch.nn.functional as F\n",
    "import pandas as pd\n",
    "import math"
   ]
  },
  {
   "cell_type": "code",
   "execution_count": 2,
   "metadata": {
    "_cell_guid": "79c7e3d0-c299-4dcb-8224-4455121ee9b0",
    "_uuid": "d629ff2d2480ee46fbb7e2d37f6b5fab8052498a",
    "execution": {
     "iopub.execute_input": "2021-02-17T13:02:53.728420Z",
     "iopub.status.busy": "2021-02-17T13:02:53.727508Z",
     "iopub.status.idle": "2021-02-17T13:02:53.730149Z",
     "shell.execute_reply": "2021-02-17T13:02:53.729677Z"
    },
    "papermill": {
     "duration": 0.021474,
     "end_time": "2021-02-17T13:02:53.730296",
     "exception": false,
     "start_time": "2021-02-17T13:02:53.708822",
     "status": "completed"
    },
    "tags": []
   },
   "outputs": [],
   "source": [
    "DATASET_VERSION = 'ca-100'\n",
    "COMPETITION_ROOT = '../input/vectors2'\n",
    "DATASET_ROOT = f'../input/text-preprocessing/data/{DATASET_VERSION}'\n",
    "WORKING_ROOT = f'data/{DATASET_VERSION}'\n",
    "DATASET_PREFIX = 'ca.wiki'"
   ]
  },
  {
   "cell_type": "code",
   "execution_count": 3,
   "metadata": {
    "execution": {
     "iopub.execute_input": "2021-02-17T13:02:53.764077Z",
     "iopub.status.busy": "2021-02-17T13:02:53.763515Z",
     "iopub.status.idle": "2021-02-17T13:02:53.767598Z",
     "shell.execute_reply": "2021-02-17T13:02:53.767108Z"
    },
    "papermill": {
     "duration": 0.02282,
     "end_time": "2021-02-17T13:02:53.767719",
     "exception": false,
     "start_time": "2021-02-17T13:02:53.744899",
     "status": "completed"
    },
    "tags": []
   },
   "outputs": [],
   "source": [
    "params = SimpleNamespace(\n",
    "    embedding_dim = 256,\n",
    "    window_size = 5,\n",
    "    batch_size = 2048,\n",
    "    epochs = 4,\n",
    "    preprocessed = f'{DATASET_ROOT}/{DATASET_PREFIX}',\n",
    "    working = f'{WORKING_ROOT}/{DATASET_PREFIX}',\n",
    "    modelname = f'{WORKING_ROOT}/{DATASET_VERSION}.pt',\n",
    "    train = True\n",
    ")"
   ]
  },
  {
   "cell_type": "code",
   "execution_count": 4,
   "metadata": {
    "execution": {
     "iopub.execute_input": "2021-02-17T13:02:53.804161Z",
     "iopub.status.busy": "2021-02-17T13:02:53.803227Z",
     "iopub.status.idle": "2021-02-17T13:02:53.805835Z",
     "shell.execute_reply": "2021-02-17T13:02:53.806294Z"
    },
    "papermill": {
     "duration": 0.023892,
     "end_time": "2021-02-17T13:02:53.806452",
     "exception": false,
     "start_time": "2021-02-17T13:02:53.782560",
     "status": "completed"
    },
    "tags": []
   },
   "outputs": [],
   "source": [
    "try:\n",
    "    from google.colab import drive\n",
    "    drive.mount('/content/drive')\n",
    "    pathlib.Path('/content/drive/My Drive/POE/vectors').mkdir(parents=True, exist_ok=True)\n",
    "    os.chdir('/content/drive/My Drive/POE/vectors')\n",
    "except:\n",
    "    pass"
   ]
  },
  {
   "cell_type": "code",
   "execution_count": 5,
   "metadata": {
    "execution": {
     "iopub.execute_input": "2021-02-17T13:02:53.848336Z",
     "iopub.status.busy": "2021-02-17T13:02:53.847098Z",
     "iopub.status.idle": "2021-02-17T13:02:53.849626Z",
     "shell.execute_reply": "2021-02-17T13:02:53.850093Z"
    },
    "papermill": {
     "duration": 0.028762,
     "end_time": "2021-02-17T13:02:53.850245",
     "exception": false,
     "start_time": "2021-02-17T13:02:53.821483",
     "status": "completed"
    },
    "tags": []
   },
   "outputs": [],
   "source": [
    "class Vocabulary(object):\n",
    "    def __init__(self, pad_token='<pad>', unk_token='<unk>', eos_token='<eos>'):\n",
    "        self.token2idx = {}\n",
    "        self.idx2token = []\n",
    "        self.pad_token = pad_token\n",
    "        self.unk_token = unk_token\n",
    "        self.eos_token = eos_token\n",
    "        if pad_token is not None:\n",
    "            self.pad_index = self.add_token(pad_token)\n",
    "        if unk_token is not None:\n",
    "            self.unk_index = self.add_token(unk_token)\n",
    "        if eos_token is not None:\n",
    "            self.eos_index = self.add_token(eos_token)\n",
    "\n",
    "    def add_token(self, token):\n",
    "        if token not in self.token2idx:\n",
    "            self.idx2token.append(token)\n",
    "            self.token2idx[token] = len(self.idx2token) - 1\n",
    "        return self.token2idx[token]\n",
    "\n",
    "    def get_index(self, token):\n",
    "        if isinstance(token, str):\n",
    "            return self.token2idx.get(token, self.unk_index)\n",
    "        else:\n",
    "            return [self.token2idx.get(t, self.unk_index) for t in token]\n",
    "\n",
    "    def __len__(self):\n",
    "        return len(self.idx2token)\n",
    "\n",
    "    def save(self, filename):\n",
    "        with open(filename, 'wb') as f:\n",
    "            pickle.dump(self.__dict__, f)\n",
    "\n",
    "    def load(self, filename):\n",
    "        with open(filename, 'rb') as f:\n",
    "            self.__dict__.update(pickle.load(f))"
   ]
  },
  {
   "cell_type": "code",
   "execution_count": 6,
   "metadata": {
    "execution": {
     "iopub.execute_input": "2021-02-17T13:02:53.887750Z",
     "iopub.status.busy": "2021-02-17T13:02:53.886002Z",
     "iopub.status.idle": "2021-02-17T13:02:53.888434Z",
     "shell.execute_reply": "2021-02-17T13:02:53.888898Z"
    },
    "papermill": {
     "duration": 0.023629,
     "end_time": "2021-02-17T13:02:53.889028",
     "exception": false,
     "start_time": "2021-02-17T13:02:53.865399",
     "status": "completed"
    },
    "tags": []
   },
   "outputs": [],
   "source": [
    "def batch_generator(idata, target, batch_size, shuffle=True):\n",
    "    nsamples = len(idata)\n",
    "    if shuffle:\n",
    "        perm = np.random.permutation(nsamples)\n",
    "    else:\n",
    "        perm = range(nsamples)\n",
    "\n",
    "    for i in range(0, nsamples, batch_size):\n",
    "        batch_idx = perm[i:i+batch_size]\n",
    "        if target is not None:\n",
    "            yield idata[batch_idx], target[batch_idx]\n",
    "        else:\n",
    "            yield idata[batch_idx], None"
   ]
  },
  {
   "cell_type": "code",
   "execution_count": 7,
   "metadata": {
    "execution": {
     "iopub.execute_input": "2021-02-17T13:02:53.926750Z",
     "iopub.status.busy": "2021-02-17T13:02:53.925062Z",
     "iopub.status.idle": "2021-02-17T13:02:53.927477Z",
     "shell.execute_reply": "2021-02-17T13:02:53.927934Z"
    },
    "papermill": {
     "duration": 0.023888,
     "end_time": "2021-02-17T13:02:53.928061",
     "exception": false,
     "start_time": "2021-02-17T13:02:53.904173",
     "status": "completed"
    },
    "tags": []
   },
   "outputs": [],
   "source": [
    "def load_preprocessed_dataset(prefix):\n",
    "    # Try loading precomputed vocabulary and preprocessed data files\n",
    "    token_vocab = Vocabulary()\n",
    "    token_vocab.load(f'{prefix}.vocab')\n",
    "    data = []\n",
    "    for part in ['train', 'valid', 'test']:\n",
    "        with np.load(f'{prefix}.{part}.npz') as set_data:\n",
    "            idata, target = set_data['idata'], set_data['target']\n",
    "            data.append((idata, target))\n",
    "            print(f'Number of samples ({part}): {len(target)}')\n",
    "    print(\"Using precomputed vocabulary and data files\")\n",
    "    print(f'Vocabulary size: {len(token_vocab)}')\n",
    "    return token_vocab, data"
   ]
  },
  {
   "cell_type": "code",
   "execution_count": 8,
   "metadata": {
    "execution": {
     "iopub.execute_input": "2021-02-17T13:02:53.968202Z",
     "iopub.status.busy": "2021-02-17T13:02:53.967445Z",
     "iopub.status.idle": "2021-02-17T13:02:53.970601Z",
     "shell.execute_reply": "2021-02-17T13:02:53.970101Z"
    },
    "papermill": {
     "duration": 0.027336,
     "end_time": "2021-02-17T13:02:53.970720",
     "exception": false,
     "start_time": "2021-02-17T13:02:53.943384",
     "status": "completed"
    },
    "tags": []
   },
   "outputs": [],
   "source": [
    "def train(model, criterion, optimizer, idata, target, batch_size, device, log=False):\n",
    "    model.train()\n",
    "    total_loss = 0\n",
    "    ncorrect = 0\n",
    "    ntokens = 0\n",
    "    niterations = 0\n",
    "    for X, y in batch_generator(idata, target, batch_size, shuffle=True):\n",
    "        # Get input and target sequences from batch\n",
    "        X = torch.tensor(X, dtype=torch.long, device=device)\n",
    "        y = torch.tensor(y, dtype=torch.long, device=device)\n",
    "\n",
    "        model.zero_grad()\n",
    "        output = model(X)\n",
    "        loss = criterion(output, y)\n",
    "        loss.backward()\n",
    "        optimizer.step()\n",
    "        # Training statistics\n",
    "        total_loss += loss.item()\n",
    "        ncorrect += (torch.max(output, 1)[1] == y).sum().item()\n",
    "        ntokens += y.numel()\n",
    "        niterations += 1\n",
    "        if niterations == 200 or niterations == 500 or niterations % 1000 == 0:\n",
    "            print(f'Train: wpb={ntokens//niterations}, num_updates={niterations}, accuracy={100*ncorrect/ntokens:.1f}, loss={total_loss/ntokens:.2f}')\n",
    "\n",
    "    total_loss = total_loss / ntokens\n",
    "    accuracy = 100 * ncorrect / ntokens\n",
    "    if log:\n",
    "        print(f'Train: wpb={ntokens//niterations}, num_updates={niterations}, accuracy={accuracy:.1f}, loss={total_loss:.2f}')\n",
    "    return accuracy, total_loss"
   ]
  },
  {
   "cell_type": "code",
   "execution_count": 9,
   "metadata": {
    "execution": {
     "iopub.execute_input": "2021-02-17T13:02:54.011950Z",
     "iopub.status.busy": "2021-02-17T13:02:54.011108Z",
     "iopub.status.idle": "2021-02-17T13:02:54.014008Z",
     "shell.execute_reply": "2021-02-17T13:02:54.013545Z"
    },
    "papermill": {
     "duration": 0.027855,
     "end_time": "2021-02-17T13:02:54.014134",
     "exception": false,
     "start_time": "2021-02-17T13:02:53.986279",
     "status": "completed"
    },
    "tags": []
   },
   "outputs": [],
   "source": [
    "def validate(model, criterion, idata, target, batch_size, device):\n",
    "    model.eval()\n",
    "    total_loss = 0\n",
    "    ncorrect = 0\n",
    "    ntokens = 0\n",
    "    niterations = 0\n",
    "    y_pred = []\n",
    "    with torch.no_grad():\n",
    "        for X, y in batch_generator(idata, target, batch_size, shuffle=False):\n",
    "            # Get input and target sequences from batch\n",
    "            X = torch.tensor(X, dtype=torch.long, device=device)\n",
    "            output = model(X)\n",
    "            if target is not None:\n",
    "                y = torch.tensor(y, dtype=torch.long, device=device)\n",
    "                loss = criterion(output, y)\n",
    "                total_loss += loss.item()\n",
    "                ncorrect += (torch.max(output, 1)[1] == y).sum().item()\n",
    "                ntokens += y.numel()\n",
    "                niterations += 1\n",
    "            else:\n",
    "                pred = torch.max(output, 1)[1].detach().to('cpu').numpy()\n",
    "                y_pred.append(pred)\n",
    "\n",
    "    if target is not None:\n",
    "        total_loss = total_loss / ntokens\n",
    "        accuracy = 100 * ncorrect / ntokens\n",
    "        return accuracy, total_loss\n",
    "    else:\n",
    "        return np.concatenate(y_pred)"
   ]
  },
  {
   "cell_type": "code",
   "execution_count": 10,
   "metadata": {
    "execution": {
     "iopub.execute_input": "2021-02-17T13:02:54.051411Z",
     "iopub.status.busy": "2021-02-17T13:02:54.050650Z",
     "iopub.status.idle": "2021-02-17T13:02:54.053885Z",
     "shell.execute_reply": "2021-02-17T13:02:54.053407Z"
    },
    "papermill": {
     "duration": 0.024034,
     "end_time": "2021-02-17T13:02:54.054011",
     "exception": false,
     "start_time": "2021-02-17T13:02:54.029977",
     "status": "completed"
    },
    "tags": []
   },
   "outputs": [],
   "source": [
    "# Create working dir\n",
    "pathlib.Path(WORKING_ROOT).mkdir(parents=True, exist_ok=True)"
   ]
  },
  {
   "cell_type": "code",
   "execution_count": 11,
   "metadata": {
    "execution": {
     "iopub.execute_input": "2021-02-17T13:02:54.457130Z",
     "iopub.status.busy": "2021-02-17T13:02:54.455176Z",
     "iopub.status.idle": "2021-02-17T13:02:54.460646Z",
     "shell.execute_reply": "2021-02-17T13:02:54.459642Z"
    },
    "papermill": {
     "duration": 0.390934,
     "end_time": "2021-02-17T13:02:54.460792",
     "exception": false,
     "start_time": "2021-02-17T13:02:54.069858",
     "status": "completed"
    },
    "tags": []
   },
   "outputs": [],
   "source": [
    "# Select device\n",
    "if torch.cuda.is_available():\n",
    "    device = torch.device('cuda')\n",
    "else:\n",
    "    device = torch.device('cpu')\n",
    "    print(\"WARNING: Training without GPU can be very slow!\")"
   ]
  },
  {
   "cell_type": "code",
   "execution_count": 12,
   "metadata": {
    "execution": {
     "iopub.execute_input": "2021-02-17T13:02:54.497008Z",
     "iopub.status.busy": "2021-02-17T13:02:54.496431Z",
     "iopub.status.idle": "2021-02-17T13:03:23.364927Z",
     "shell.execute_reply": "2021-02-17T13:03:23.365424Z"
    },
    "papermill": {
     "duration": 28.888536,
     "end_time": "2021-02-17T13:03:23.365592",
     "exception": false,
     "start_time": "2021-02-17T13:02:54.477056",
     "status": "completed"
    },
    "tags": []
   },
   "outputs": [
    {
     "name": "stdout",
     "output_type": "stream",
     "text": [
      "Number of samples (train): 82522592\n",
      "Number of samples (valid): 165098\n",
      "Number of samples (test): 166194\n",
      "Using precomputed vocabulary and data files\n",
      "Vocabulary size: 100002\n"
     ]
    }
   ],
   "source": [
    "vocab, data = load_preprocessed_dataset(params.preprocessed)"
   ]
  },
  {
   "cell_type": "code",
   "execution_count": 13,
   "metadata": {
    "execution": {
     "iopub.execute_input": "2021-02-17T13:03:23.406630Z",
     "iopub.status.busy": "2021-02-17T13:03:23.405981Z",
     "iopub.status.idle": "2021-02-17T13:03:23.571859Z",
     "shell.execute_reply": "2021-02-17T13:03:23.570887Z"
    },
    "papermill": {
     "duration": 0.189378,
     "end_time": "2021-02-17T13:03:23.572023",
     "exception": false,
     "start_time": "2021-02-17T13:03:23.382645",
     "status": "completed"
    },
    "tags": []
   },
   "outputs": [],
   "source": [
    "# 'El Periodico' validation dataset\n",
    "valid_x_df = pd.read_csv(f'{COMPETITION_ROOT}/x_valid.csv')\n",
    "tokens = valid_x_df.columns[1:]\n",
    "valid_x = valid_x_df[tokens].apply(vocab.get_index).to_numpy(dtype='int32')\n",
    "valid_y_df = pd.read_csv(f'{COMPETITION_ROOT}/y_valid.csv')\n",
    "valid_y = valid_y_df['token'].apply(vocab.get_index).to_numpy(dtype='int32')"
   ]
  },
  {
   "cell_type": "code",
   "execution_count": 14,
   "metadata": {
    "execution": {
     "iopub.execute_input": "2021-02-17T13:03:23.612120Z",
     "iopub.status.busy": "2021-02-17T13:03:23.611536Z",
     "iopub.status.idle": "2021-02-17T13:03:23.615673Z",
     "shell.execute_reply": "2021-02-17T13:03:23.615211Z"
    },
    "papermill": {
     "duration": 0.026935,
     "end_time": "2021-02-17T13:03:23.615794",
     "exception": false,
     "start_time": "2021-02-17T13:03:23.588859",
     "status": "completed"
    },
    "tags": []
   },
   "outputs": [],
   "source": [
    "def attention(query, key, value, mask=None, dropout=None):\n",
    "    \"Compute 'Scaled Dot Product Attention'\"\n",
    "    d_k = query.size(-1)\n",
    "    scores = torch.matmul(query, key.transpose(-2, -1)) \\\n",
    "             / math.sqrt(d_k)\n",
    "    if mask is not None:\n",
    "        scores = scores.masked_fill(mask == 0, -Inf)\n",
    "    p_attn = F.softmax(scores, dim = -1)\n",
    "    if dropout is not None:\n",
    "        p_attn = dropout(p_attn)\n",
    "    return torch.matmul(p_attn, value), p_attn"
   ]
  },
  {
   "cell_type": "markdown",
   "metadata": {
    "papermill": {
     "duration": 0.017294,
     "end_time": "2021-02-17T13:03:23.650044",
     "exception": false,
     "start_time": "2021-02-17T13:03:23.632750",
     "status": "completed"
    },
    "tags": []
   },
   "source": [
    "The **xavier_normal_()** initialization function fills the input Tensor with values according to the method described in **Understanding the difficulty of training deep feedforward neural networks** - Glorot, X. & Bengio, Y. (2010), using a uniform distribution. The resulting tensor will have values sampled from a uniform distribution \\\\(\\mathcal{U}(-a, a)\\\\) where\n",
    "\n",
    "\\\\(    a = \\text{gain} \\times \\sqrt{\\frac{6}{\\text{fan\\_in} + \\text{fan\\_out}}}\\\\)\n",
    "\n",
    "Also known as Glorot initialization."
   ]
  },
  {
   "cell_type": "code",
   "execution_count": 15,
   "metadata": {
    "execution": {
     "iopub.execute_input": "2021-02-17T13:03:23.695003Z",
     "iopub.status.busy": "2021-02-17T13:03:23.693738Z",
     "iopub.status.idle": "2021-02-17T13:03:23.696227Z",
     "shell.execute_reply": "2021-02-17T13:03:23.696687Z"
    },
    "papermill": {
     "duration": 0.030125,
     "end_time": "2021-02-17T13:03:23.696817",
     "exception": false,
     "start_time": "2021-02-17T13:03:23.666692",
     "status": "completed"
    },
    "tags": []
   },
   "outputs": [],
   "source": [
    "class SelfAttention(nn.Module):\n",
    "    def __init__(self, embed_dim, bias=True):\n",
    "        super().__init__()\n",
    "        self.k_proj = nn.Linear(embed_dim, embed_dim, bias=bias)\n",
    "        self.v_proj = nn.Linear(embed_dim, embed_dim, bias=bias)\n",
    "        self.q_proj = nn.Linear(embed_dim, embed_dim, bias=bias)\n",
    "        self.out_proj = nn.Linear(embed_dim, embed_dim, bias=bias)\n",
    "        self.reset_parameters()\n",
    "\n",
    "    def reset_parameters(self):\n",
    "        # Empirically observed the convergence to be much better with the scaled initialization\n",
    "        nn.init.xavier_uniform_(self.k_proj.weight, gain=1 / math.sqrt(2))\n",
    "        nn.init.xavier_uniform_(self.v_proj.weight, gain=1 / math.sqrt(2))\n",
    "        nn.init.xavier_uniform_(self.q_proj.weight, gain=1 / math.sqrt(2))\n",
    "        nn.init.xavier_uniform_(self.out_proj.weight)\n",
    "        if self.out_proj.bias is not None:\n",
    "            nn.init.constant_(self.out_proj.bias, 0.)\n",
    "\n",
    "    # B = Batch size\n",
    "    # W = Number of context words (left + right)\n",
    "    # E = embedding_dim\n",
    "    def forward(self, x):\n",
    "        # x shape is (B, W, E)\n",
    "        q = self.q_proj(x)\n",
    "        # q shape is (B, W, E)\n",
    "        k = self.k_proj(x)\n",
    "        # k shape is (B, W, E)\n",
    "        v = self.v_proj(x)\n",
    "        # k shape is (B, W, E)\n",
    "        y, _ = attention(q, k, v)\n",
    "        # y shape is (B, W, E)\n",
    "        y = self.out_proj(y)\n",
    "        # y shape is (B, W, E)\n",
    "        return y"
   ]
  },
  {
   "cell_type": "code",
   "execution_count": 16,
   "metadata": {
    "execution": {
     "iopub.execute_input": "2021-02-17T13:03:23.739307Z",
     "iopub.status.busy": "2021-02-17T13:03:23.738481Z",
     "iopub.status.idle": "2021-02-17T13:03:23.742002Z",
     "shell.execute_reply": "2021-02-17T13:03:23.741484Z"
    },
    "papermill": {
     "duration": 0.028497,
     "end_time": "2021-02-17T13:03:23.742117",
     "exception": false,
     "start_time": "2021-02-17T13:03:23.713620",
     "status": "completed"
    },
    "tags": []
   },
   "outputs": [],
   "source": [
    "class TransformerLayer(nn.Module):\n",
    "    def __init__(self, d_model, dim_feedforward=512, dropout=0.1, activation=\"relu\"):\n",
    "        super().__init__()\n",
    "        self.self_attn = SelfAttention(d_model)\n",
    "        # Implementation of Feedforward model\n",
    "        self.linear1 = nn.Linear(d_model, dim_feedforward)\n",
    "        self.dropout = nn.Dropout(dropout)\n",
    "        self.linear2 = nn.Linear(dim_feedforward, d_model)\n",
    "        self.norm1 = nn.LayerNorm(d_model)\n",
    "        self.norm2 = nn.LayerNorm(d_model)\n",
    "        self.dropout1 = nn.Dropout(dropout)\n",
    "        self.dropout2 = nn.Dropout(dropout)\n",
    "\n",
    "    def forward(self, src):\n",
    "        src2 = self.self_attn(src)\n",
    "        src = src + self.dropout1(src2)\n",
    "        src = self.norm1(src)\n",
    "        src2 = self.linear2(self.dropout(F.relu(self.linear1(src))))\n",
    "        src = src + self.dropout2(src2)\n",
    "        src = self.norm2(src)\n",
    "        return src"
   ]
  },
  {
   "cell_type": "code",
   "execution_count": 17,
   "metadata": {
    "execution": {
     "iopub.execute_input": "2021-02-17T13:03:23.783913Z",
     "iopub.status.busy": "2021-02-17T13:03:23.783245Z",
     "iopub.status.idle": "2021-02-17T13:03:23.786842Z",
     "shell.execute_reply": "2021-02-17T13:03:23.786365Z"
    },
    "papermill": {
     "duration": 0.027797,
     "end_time": "2021-02-17T13:03:23.786956",
     "exception": false,
     "start_time": "2021-02-17T13:03:23.759159",
     "status": "completed"
    },
    "tags": []
   },
   "outputs": [],
   "source": [
    "class Predictor(nn.Module):\n",
    "    def __init__(self, num_embeddings, embedding_dim, context_words=4):\n",
    "        super().__init__()\n",
    "        self.emb = nn.Embedding(num_embeddings, embedding_dim, padding_idx=0)\n",
    "        self.lin = nn.Linear(embedding_dim, num_embeddings, bias=False)\n",
    "        self.att = TransformerLayer(embedding_dim)\n",
    "        self.position_embedding = nn.Parameter(torch.Tensor(context_words, embedding_dim))\n",
    "        nn.init.xavier_uniform_(self.position_embedding)\n",
    "\n",
    "    # B = Batch size\n",
    "    # W = Number of context words (left + right)\n",
    "    # E = embedding_dim\n",
    "    # V = num_embeddings (number of words)\n",
    "    def forward(self, input):\n",
    "        # input shape is (B, W)\n",
    "        e = self.emb(input)\n",
    "        # e shape is (B, W, E)\n",
    "        u = e + self.position_embedding\n",
    "        # u shape is (B, W, E)\n",
    "        v = self.att(u)\n",
    "        # v shape is (B, W, E)\n",
    "        x = v.sum(dim=1)\n",
    "        # x shape is (B, E)\n",
    "        y = self.lin(x)\n",
    "        # y shape is (B, V)\n",
    "        return y"
   ]
  },
  {
   "cell_type": "code",
   "execution_count": 18,
   "metadata": {
    "execution": {
     "iopub.execute_input": "2021-02-17T13:03:23.825477Z",
     "iopub.status.busy": "2021-02-17T13:03:23.824805Z",
     "iopub.status.idle": "2021-02-17T13:03:28.136763Z",
     "shell.execute_reply": "2021-02-17T13:03:28.136228Z"
    },
    "papermill": {
     "duration": 4.332795,
     "end_time": "2021-02-17T13:03:28.136905",
     "exception": false,
     "start_time": "2021-02-17T13:03:23.804110",
     "status": "completed"
    },
    "tags": []
   },
   "outputs": [],
   "source": [
    "model = Predictor(len(vocab), params.embedding_dim).to(device)"
   ]
  },
  {
   "cell_type": "code",
   "execution_count": 19,
   "metadata": {
    "execution": {
     "iopub.execute_input": "2021-02-17T13:03:28.178977Z",
     "iopub.status.busy": "2021-02-17T13:03:28.178004Z",
     "iopub.status.idle": "2021-02-17T13:03:28.185035Z",
     "shell.execute_reply": "2021-02-17T13:03:28.184414Z"
    },
    "papermill": {
     "duration": 0.030823,
     "end_time": "2021-02-17T13:03:28.185171",
     "exception": false,
     "start_time": "2021-02-17T13:03:28.154348",
     "status": "completed"
    },
    "tags": []
   },
   "outputs": [
    {
     "name": "stdout",
     "output_type": "stream",
     "text": [
      "Predictor(\n",
      "  (emb): Embedding(100002, 256, padding_idx=0)\n",
      "  (lin): Linear(in_features=256, out_features=100002, bias=False)\n",
      "  (att): TransformerLayer(\n",
      "    (self_attn): SelfAttention(\n",
      "      (k_proj): Linear(in_features=256, out_features=256, bias=True)\n",
      "      (v_proj): Linear(in_features=256, out_features=256, bias=True)\n",
      "      (q_proj): Linear(in_features=256, out_features=256, bias=True)\n",
      "      (out_proj): Linear(in_features=256, out_features=256, bias=True)\n",
      "    )\n",
      "    (linear1): Linear(in_features=256, out_features=512, bias=True)\n",
      "    (dropout): Dropout(p=0.1, inplace=False)\n",
      "    (linear2): Linear(in_features=512, out_features=256, bias=True)\n",
      "    (norm1): LayerNorm((256,), eps=1e-05, elementwise_affine=True)\n",
      "    (norm2): LayerNorm((256,), eps=1e-05, elementwise_affine=True)\n",
      "    (dropout1): Dropout(p=0.1, inplace=False)\n",
      "    (dropout2): Dropout(p=0.1, inplace=False)\n",
      "  )\n",
      ")\n",
      "position_embedding   1024 [4, 256]\n",
      "emb.weight           25600512 [100002, 256]\n",
      "lin.weight           25600512 [100002, 256]\n",
      "att.self_attn.k_proj.weight 65536 [256, 256]\n",
      "att.self_attn.k_proj.bias 256 [256]\n",
      "att.self_attn.v_proj.weight 65536 [256, 256]\n",
      "att.self_attn.v_proj.bias 256 [256]\n",
      "att.self_attn.q_proj.weight 65536 [256, 256]\n",
      "att.self_attn.q_proj.bias 256 [256]\n",
      "att.self_attn.out_proj.weight 65536 [256, 256]\n",
      "att.self_attn.out_proj.bias 256 [256]\n",
      "att.linear1.weight   131072 [512, 256]\n",
      "att.linear1.bias     512 [512]\n",
      "att.linear2.weight   131072 [256, 512]\n",
      "att.linear2.bias     256 [256]\n",
      "att.norm1.weight     256 [256]\n",
      "att.norm1.bias       256 [256]\n",
      "att.norm2.weight     256 [256]\n",
      "att.norm2.bias       256 [256]\n",
      "TOTAL                51729152\n"
     ]
    }
   ],
   "source": [
    "print(model)\n",
    "for name, param in model.named_parameters():\n",
    "    print(f'{name:20} {param.numel()} {list(param.shape)}')\n",
    "print(f'TOTAL                {sum(p.numel() for p in model.parameters())}')"
   ]
  },
  {
   "cell_type": "code",
   "execution_count": 20,
   "metadata": {
    "execution": {
     "iopub.execute_input": "2021-02-17T13:03:28.232303Z",
     "iopub.status.busy": "2021-02-17T13:03:28.231251Z",
     "iopub.status.idle": "2021-02-17T16:45:38.327414Z",
     "shell.execute_reply": "2021-02-17T16:45:38.326286Z"
    },
    "papermill": {
     "duration": 13330.124546,
     "end_time": "2021-02-17T16:45:38.327606",
     "exception": false,
     "start_time": "2021-02-17T13:03:28.203060",
     "status": "completed"
    },
    "tags": []
   },
   "outputs": [
    {
     "name": "stdout",
     "output_type": "stream",
     "text": [
      "Train: wpb=2048, num_updates=200, accuracy=13.9, loss=7.05\n",
      "Train: wpb=2048, num_updates=500, accuracy=18.8, loss=6.32\n",
      "Train: wpb=2048, num_updates=1000, accuracy=22.6, loss=5.82\n",
      "Train: wpb=2048, num_updates=2000, accuracy=26.4, loss=5.37\n",
      "Train: wpb=2048, num_updates=3000, accuracy=28.5, loss=5.12\n",
      "Train: wpb=2048, num_updates=4000, accuracy=30.0, loss=4.95\n",
      "Train: wpb=2048, num_updates=5000, accuracy=31.1, loss=4.82\n",
      "Train: wpb=2048, num_updates=6000, accuracy=32.0, loss=4.72\n",
      "Train: wpb=2048, num_updates=7000, accuracy=32.7, loss=4.64\n",
      "Train: wpb=2048, num_updates=8000, accuracy=33.3, loss=4.57\n",
      "Train: wpb=2048, num_updates=9000, accuracy=33.8, loss=4.51\n",
      "Train: wpb=2048, num_updates=10000, accuracy=34.3, loss=4.46\n",
      "Train: wpb=2048, num_updates=11000, accuracy=34.6, loss=4.42\n",
      "Train: wpb=2048, num_updates=12000, accuracy=35.0, loss=4.38\n",
      "Train: wpb=2048, num_updates=13000, accuracy=35.3, loss=4.34\n",
      "Train: wpb=2048, num_updates=14000, accuracy=35.6, loss=4.30\n",
      "Train: wpb=2048, num_updates=15000, accuracy=35.9, loss=4.27\n",
      "Train: wpb=2048, num_updates=16000, accuracy=36.1, loss=4.24\n",
      "Train: wpb=2048, num_updates=17000, accuracy=36.4, loss=4.22\n",
      "Train: wpb=2048, num_updates=18000, accuracy=36.6, loss=4.19\n",
      "Train: wpb=2048, num_updates=19000, accuracy=36.8, loss=4.17\n",
      "Train: wpb=2048, num_updates=20000, accuracy=37.0, loss=4.15\n",
      "Train: wpb=2048, num_updates=21000, accuracy=37.1, loss=4.13\n",
      "Train: wpb=2048, num_updates=22000, accuracy=37.3, loss=4.11\n",
      "Train: wpb=2048, num_updates=23000, accuracy=37.5, loss=4.09\n",
      "Train: wpb=2048, num_updates=24000, accuracy=37.6, loss=4.07\n",
      "Train: wpb=2048, num_updates=25000, accuracy=37.8, loss=4.06\n",
      "Train: wpb=2048, num_updates=26000, accuracy=37.9, loss=4.04\n",
      "Train: wpb=2048, num_updates=27000, accuracy=38.0, loss=4.03\n",
      "Train: wpb=2048, num_updates=28000, accuracy=38.1, loss=4.01\n",
      "Train: wpb=2048, num_updates=29000, accuracy=38.3, loss=4.00\n",
      "Train: wpb=2048, num_updates=30000, accuracy=38.4, loss=3.99\n",
      "Train: wpb=2048, num_updates=31000, accuracy=38.5, loss=3.98\n",
      "Train: wpb=2048, num_updates=32000, accuracy=38.6, loss=3.96\n",
      "Train: wpb=2048, num_updates=33000, accuracy=38.7, loss=3.95\n",
      "Train: wpb=2048, num_updates=34000, accuracy=38.8, loss=3.94\n",
      "Train: wpb=2048, num_updates=35000, accuracy=38.9, loss=3.93\n",
      "Train: wpb=2048, num_updates=36000, accuracy=39.0, loss=3.92\n",
      "Train: wpb=2048, num_updates=37000, accuracy=39.0, loss=3.91\n",
      "Train: wpb=2048, num_updates=38000, accuracy=39.1, loss=3.90\n",
      "Train: wpb=2048, num_updates=39000, accuracy=39.2, loss=3.89\n",
      "Train: wpb=2048, num_updates=40000, accuracy=39.3, loss=3.88\n",
      "Train: wpb=2047, num_updates=40295, accuracy=39.3, loss=3.88\n",
      "| epoch 000 | train accuracy=39.3%, train loss=3.88\n",
      "| epoch 000 | valid accuracy=41.5%, valid loss=3.61 (wikipedia)\n",
      "| epoch 000 | valid accuracy=31.8%, valid loss=4.44 (El Periódico)\n",
      "Train: wpb=2048, num_updates=200, accuracy=42.8, loss=3.44\n",
      "Train: wpb=2048, num_updates=500, accuracy=42.8, loss=3.44\n",
      "Train: wpb=2048, num_updates=1000, accuracy=42.7, loss=3.45\n",
      "Train: wpb=2048, num_updates=2000, accuracy=42.7, loss=3.45\n",
      "Train: wpb=2048, num_updates=3000, accuracy=42.7, loss=3.45\n",
      "Train: wpb=2048, num_updates=4000, accuracy=42.7, loss=3.45\n",
      "Train: wpb=2048, num_updates=5000, accuracy=42.8, loss=3.45\n",
      "Train: wpb=2048, num_updates=6000, accuracy=42.8, loss=3.45\n",
      "Train: wpb=2048, num_updates=7000, accuracy=42.8, loss=3.45\n",
      "Train: wpb=2048, num_updates=8000, accuracy=42.8, loss=3.45\n",
      "Train: wpb=2048, num_updates=9000, accuracy=42.8, loss=3.45\n",
      "Train: wpb=2048, num_updates=10000, accuracy=42.8, loss=3.45\n",
      "Train: wpb=2048, num_updates=11000, accuracy=42.9, loss=3.45\n",
      "Train: wpb=2048, num_updates=12000, accuracy=42.9, loss=3.45\n",
      "Train: wpb=2048, num_updates=13000, accuracy=42.9, loss=3.44\n",
      "Train: wpb=2048, num_updates=14000, accuracy=42.9, loss=3.44\n",
      "Train: wpb=2048, num_updates=15000, accuracy=42.9, loss=3.44\n",
      "Train: wpb=2048, num_updates=16000, accuracy=42.9, loss=3.44\n",
      "Train: wpb=2048, num_updates=17000, accuracy=43.0, loss=3.44\n",
      "Train: wpb=2048, num_updates=18000, accuracy=43.0, loss=3.44\n",
      "Train: wpb=2048, num_updates=19000, accuracy=43.0, loss=3.44\n",
      "Train: wpb=2048, num_updates=20000, accuracy=43.0, loss=3.44\n",
      "Train: wpb=2048, num_updates=21000, accuracy=43.0, loss=3.44\n",
      "Train: wpb=2048, num_updates=22000, accuracy=43.0, loss=3.43\n",
      "Train: wpb=2048, num_updates=23000, accuracy=43.0, loss=3.43\n",
      "Train: wpb=2048, num_updates=24000, accuracy=43.1, loss=3.43\n",
      "Train: wpb=2048, num_updates=25000, accuracy=43.1, loss=3.43\n",
      "Train: wpb=2048, num_updates=26000, accuracy=43.1, loss=3.43\n",
      "Train: wpb=2048, num_updates=27000, accuracy=43.1, loss=3.43\n",
      "Train: wpb=2048, num_updates=28000, accuracy=43.1, loss=3.43\n",
      "Train: wpb=2048, num_updates=29000, accuracy=43.1, loss=3.43\n",
      "Train: wpb=2048, num_updates=30000, accuracy=43.1, loss=3.43\n",
      "Train: wpb=2048, num_updates=31000, accuracy=43.2, loss=3.42\n",
      "Train: wpb=2048, num_updates=32000, accuracy=43.2, loss=3.42\n",
      "Train: wpb=2048, num_updates=33000, accuracy=43.2, loss=3.42\n",
      "Train: wpb=2048, num_updates=34000, accuracy=43.2, loss=3.42\n",
      "Train: wpb=2048, num_updates=35000, accuracy=43.2, loss=3.42\n",
      "Train: wpb=2048, num_updates=36000, accuracy=43.2, loss=3.42\n",
      "Train: wpb=2048, num_updates=37000, accuracy=43.2, loss=3.42\n",
      "Train: wpb=2048, num_updates=38000, accuracy=43.3, loss=3.42\n",
      "Train: wpb=2048, num_updates=39000, accuracy=43.3, loss=3.41\n",
      "Train: wpb=2048, num_updates=40000, accuracy=43.3, loss=3.41\n",
      "Train: wpb=2047, num_updates=40295, accuracy=43.3, loss=3.41\n",
      "| epoch 001 | train accuracy=43.3%, train loss=3.41\n",
      "| epoch 001 | valid accuracy=42.7%, valid loss=3.47 (wikipedia)\n",
      "| epoch 001 | valid accuracy=32.7%, valid loss=4.33 (El Periódico)\n",
      "Train: wpb=2048, num_updates=200, accuracy=44.2, loss=3.28\n",
      "Train: wpb=2048, num_updates=500, accuracy=44.3, loss=3.27\n",
      "Train: wpb=2048, num_updates=1000, accuracy=44.2, loss=3.28\n",
      "Train: wpb=2048, num_updates=2000, accuracy=44.2, loss=3.28\n",
      "Train: wpb=2048, num_updates=3000, accuracy=44.2, loss=3.28\n",
      "Train: wpb=2048, num_updates=4000, accuracy=44.2, loss=3.28\n",
      "Train: wpb=2048, num_updates=5000, accuracy=44.2, loss=3.29\n",
      "Train: wpb=2048, num_updates=6000, accuracy=44.2, loss=3.29\n",
      "Train: wpb=2048, num_updates=7000, accuracy=44.2, loss=3.29\n",
      "Train: wpb=2048, num_updates=8000, accuracy=44.2, loss=3.29\n",
      "Train: wpb=2048, num_updates=9000, accuracy=44.2, loss=3.29\n",
      "Train: wpb=2048, num_updates=10000, accuracy=44.2, loss=3.29\n",
      "Train: wpb=2048, num_updates=11000, accuracy=44.2, loss=3.29\n",
      "Train: wpb=2048, num_updates=12000, accuracy=44.2, loss=3.29\n",
      "Train: wpb=2048, num_updates=13000, accuracy=44.2, loss=3.29\n",
      "Train: wpb=2048, num_updates=14000, accuracy=44.2, loss=3.29\n",
      "Train: wpb=2048, num_updates=15000, accuracy=44.2, loss=3.29\n",
      "Train: wpb=2048, num_updates=16000, accuracy=44.2, loss=3.29\n",
      "Train: wpb=2048, num_updates=17000, accuracy=44.2, loss=3.29\n",
      "Train: wpb=2048, num_updates=18000, accuracy=44.2, loss=3.29\n",
      "Train: wpb=2048, num_updates=19000, accuracy=44.2, loss=3.29\n",
      "Train: wpb=2048, num_updates=20000, accuracy=44.3, loss=3.29\n",
      "Train: wpb=2048, num_updates=21000, accuracy=44.3, loss=3.29\n",
      "Train: wpb=2048, num_updates=22000, accuracy=44.3, loss=3.29\n",
      "Train: wpb=2048, num_updates=23000, accuracy=44.3, loss=3.29\n",
      "Train: wpb=2048, num_updates=24000, accuracy=44.3, loss=3.29\n",
      "Train: wpb=2048, num_updates=25000, accuracy=44.3, loss=3.29\n",
      "Train: wpb=2048, num_updates=26000, accuracy=44.3, loss=3.29\n",
      "Train: wpb=2048, num_updates=27000, accuracy=44.3, loss=3.29\n",
      "Train: wpb=2048, num_updates=28000, accuracy=44.3, loss=3.29\n",
      "Train: wpb=2048, num_updates=29000, accuracy=44.3, loss=3.29\n",
      "Train: wpb=2048, num_updates=30000, accuracy=44.3, loss=3.29\n",
      "Train: wpb=2048, num_updates=31000, accuracy=44.3, loss=3.29\n",
      "Train: wpb=2048, num_updates=32000, accuracy=44.3, loss=3.29\n",
      "Train: wpb=2048, num_updates=33000, accuracy=44.3, loss=3.29\n",
      "Train: wpb=2048, num_updates=34000, accuracy=44.3, loss=3.29\n",
      "Train: wpb=2048, num_updates=35000, accuracy=44.3, loss=3.29\n",
      "Train: wpb=2048, num_updates=36000, accuracy=44.3, loss=3.29\n",
      "Train: wpb=2048, num_updates=37000, accuracy=44.3, loss=3.29\n",
      "Train: wpb=2048, num_updates=38000, accuracy=44.4, loss=3.29\n",
      "Train: wpb=2048, num_updates=39000, accuracy=44.4, loss=3.29\n",
      "Train: wpb=2048, num_updates=40000, accuracy=44.4, loss=3.29\n",
      "Train: wpb=2047, num_updates=40295, accuracy=44.4, loss=3.29\n",
      "| epoch 002 | train accuracy=44.4%, train loss=3.29\n",
      "| epoch 002 | valid accuracy=43.4%, valid loss=3.41 (wikipedia)\n",
      "| epoch 002 | valid accuracy=33.4%, valid loss=4.27 (El Periódico)\n",
      "Train: wpb=2048, num_updates=200, accuracy=45.0, loss=3.19\n",
      "Train: wpb=2048, num_updates=500, accuracy=45.1, loss=3.18\n",
      "Train: wpb=2048, num_updates=1000, accuracy=45.0, loss=3.19\n",
      "Train: wpb=2048, num_updates=2000, accuracy=45.0, loss=3.19\n",
      "Train: wpb=2048, num_updates=3000, accuracy=45.0, loss=3.19\n",
      "Train: wpb=2048, num_updates=4000, accuracy=45.0, loss=3.20\n",
      "Train: wpb=2048, num_updates=5000, accuracy=45.0, loss=3.20\n",
      "Train: wpb=2048, num_updates=6000, accuracy=45.0, loss=3.20\n",
      "Train: wpb=2048, num_updates=7000, accuracy=45.0, loss=3.20\n",
      "Train: wpb=2048, num_updates=8000, accuracy=45.0, loss=3.20\n",
      "Train: wpb=2048, num_updates=9000, accuracy=45.0, loss=3.21\n",
      "Train: wpb=2048, num_updates=10000, accuracy=44.9, loss=3.21\n",
      "Train: wpb=2048, num_updates=11000, accuracy=44.9, loss=3.21\n",
      "Train: wpb=2048, num_updates=12000, accuracy=44.9, loss=3.21\n",
      "Train: wpb=2048, num_updates=13000, accuracy=44.9, loss=3.21\n",
      "Train: wpb=2048, num_updates=14000, accuracy=44.9, loss=3.21\n",
      "Train: wpb=2048, num_updates=15000, accuracy=44.9, loss=3.21\n",
      "Train: wpb=2048, num_updates=16000, accuracy=44.9, loss=3.21\n",
      "Train: wpb=2048, num_updates=17000, accuracy=44.9, loss=3.21\n",
      "Train: wpb=2048, num_updates=18000, accuracy=44.9, loss=3.21\n",
      "Train: wpb=2048, num_updates=19000, accuracy=44.9, loss=3.22\n",
      "Train: wpb=2048, num_updates=20000, accuracy=44.9, loss=3.22\n",
      "Train: wpb=2048, num_updates=21000, accuracy=45.0, loss=3.22\n",
      "Train: wpb=2048, num_updates=22000, accuracy=45.0, loss=3.22\n",
      "Train: wpb=2048, num_updates=23000, accuracy=45.0, loss=3.22\n",
      "Train: wpb=2048, num_updates=24000, accuracy=45.0, loss=3.22\n",
      "Train: wpb=2048, num_updates=25000, accuracy=45.0, loss=3.22\n",
      "Train: wpb=2048, num_updates=26000, accuracy=45.0, loss=3.22\n",
      "Train: wpb=2048, num_updates=27000, accuracy=45.0, loss=3.22\n",
      "Train: wpb=2048, num_updates=28000, accuracy=45.0, loss=3.22\n",
      "Train: wpb=2048, num_updates=29000, accuracy=45.0, loss=3.22\n",
      "Train: wpb=2048, num_updates=30000, accuracy=45.0, loss=3.22\n",
      "Train: wpb=2048, num_updates=31000, accuracy=45.0, loss=3.22\n",
      "Train: wpb=2048, num_updates=32000, accuracy=45.0, loss=3.22\n",
      "Train: wpb=2048, num_updates=33000, accuracy=45.0, loss=3.22\n",
      "Train: wpb=2048, num_updates=34000, accuracy=45.0, loss=3.22\n",
      "Train: wpb=2048, num_updates=35000, accuracy=45.0, loss=3.22\n",
      "Train: wpb=2048, num_updates=36000, accuracy=45.0, loss=3.22\n",
      "Train: wpb=2048, num_updates=37000, accuracy=45.0, loss=3.22\n",
      "Train: wpb=2048, num_updates=38000, accuracy=45.0, loss=3.22\n",
      "Train: wpb=2048, num_updates=39000, accuracy=45.0, loss=3.22\n",
      "Train: wpb=2048, num_updates=40000, accuracy=45.0, loss=3.22\n",
      "Train: wpb=2047, num_updates=40295, accuracy=45.0, loss=3.22\n",
      "| epoch 003 | train accuracy=45.0%, train loss=3.22\n",
      "| epoch 003 | valid accuracy=43.8%, valid loss=3.37 (wikipedia)\n",
      "| epoch 003 | valid accuracy=33.5%, valid loss=4.25 (El Periódico)\n"
     ]
    }
   ],
   "source": [
    "optimizer = torch.optim.Adam(model.parameters())\n",
    "criterion = nn.CrossEntropyLoss(reduction='sum')\n",
    "\n",
    "train_accuracy = []\n",
    "wiki_accuracy = []\n",
    "valid_accuracy = []\n",
    "for epoch in range(params.epochs):\n",
    "    acc, loss = train(model, criterion, optimizer, data[0][0], data[0][1], params.batch_size, device, log=True)\n",
    "    train_accuracy.append(acc)\n",
    "    print(f'| epoch {epoch:03d} | train accuracy={acc:.1f}%, train loss={loss:.2f}')\n",
    "    acc, loss = validate(model, criterion, data[1][0], data[1][1], params.batch_size, device)\n",
    "    wiki_accuracy.append(acc)\n",
    "    print(f'| epoch {epoch:03d} | valid accuracy={acc:.1f}%, valid loss={loss:.2f} (wikipedia)')\n",
    "    acc, loss = validate(model, criterion, valid_x, valid_y, params.batch_size, device)\n",
    "    valid_accuracy.append(acc)\n",
    "    print(f'| epoch {epoch:03d} | valid accuracy={acc:.1f}%, valid loss={loss:.2f} (El Periódico)')\n",
    "\n",
    "# Save model\n",
    "torch.save(model.state_dict(), params.modelname)"
   ]
  },
  {
   "cell_type": "code",
   "execution_count": 21,
   "metadata": {
    "execution": {
     "iopub.execute_input": "2021-02-17T16:45:38.497698Z",
     "iopub.status.busy": "2021-02-17T16:45:38.497024Z",
     "iopub.status.idle": "2021-02-17T16:45:38.811324Z",
     "shell.execute_reply": "2021-02-17T16:45:38.810728Z"
    },
    "papermill": {
     "duration": 0.402733,
     "end_time": "2021-02-17T16:45:38.811483",
     "exception": false,
     "start_time": "2021-02-17T16:45:38.408750",
     "status": "completed"
    },
    "tags": []
   },
   "outputs": [],
   "source": [
    "# 'El Periodico' test dataset\n",
    "valid_x_df = pd.read_csv(f'{COMPETITION_ROOT}/x_test.csv')\n",
    "test_x = valid_x_df[tokens].apply(vocab.get_index).to_numpy(dtype='int32')\n",
    "y_pred = validate(model, None, test_x, None, params.batch_size, device)\n",
    "y_token = [vocab.idx2token[index] for index in y_pred]"
   ]
  },
  {
   "cell_type": "code",
   "execution_count": 22,
   "metadata": {
    "execution": {
     "iopub.execute_input": "2021-02-17T16:45:38.991460Z",
     "iopub.status.busy": "2021-02-17T16:45:38.990514Z",
     "iopub.status.idle": "2021-02-17T16:45:39.276901Z",
     "shell.execute_reply": "2021-02-17T16:45:39.276350Z"
    },
    "papermill": {
     "duration": 0.383686,
     "end_time": "2021-02-17T16:45:39.277040",
     "exception": false,
     "start_time": "2021-02-17T16:45:38.893354",
     "status": "completed"
    },
    "tags": []
   },
   "outputs": [
    {
     "name": "stdout",
     "output_type": "stream",
     "text": [
      "   id      token\n",
      "0   0      quals\n",
      "1   1         ús\n",
      "2   2         la\n",
      "3   3      <unk>\n",
      "4   4  Assemblea\n"
     ]
    }
   ],
   "source": [
    "submission = pd.DataFrame({'id':valid_x_df['id'], 'token': y_token}, columns=['id', 'token'])\n",
    "print(submission.head())\n",
    "submission.to_csv('submission.csv', index=False)"
   ]
  }
 ],
 "metadata": {
  "kernelspec": {
   "display_name": "Python 3",
   "language": "python",
   "name": "python3"
  },
  "language_info": {
   "codemirror_mode": {
    "name": "ipython",
    "version": 3
   },
   "file_extension": ".py",
   "mimetype": "text/x-python",
   "name": "python",
   "nbconvert_exporter": "python",
   "pygments_lexer": "ipython3",
   "version": "3.7.9"
  },
  "papermill": {
   "default_parameters": {},
   "duration": 13374.19805,
   "end_time": "2021-02-17T16:45:41.119412",
   "environment_variables": {},
   "exception": null,
   "input_path": "__notebook__.ipynb",
   "output_path": "__notebook__.ipynb",
   "parameters": {},
   "start_time": "2021-02-17T13:02:46.921362",
   "version": "2.2.2"
  }
 },
 "nbformat": 4,
 "nbformat_minor": 4
}
