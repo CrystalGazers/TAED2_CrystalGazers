{
 "cells": [
  {
   "cell_type": "code",
   "execution_count": null,
   "metadata": {},
   "outputs": [],
   "source": [
    "import os\n",
    "import sagemaker\n",
    "from sagemaker.pytorch import PyTorch"
   ]
  },
  {
   "cell_type": "code",
   "execution_count": null,
   "metadata": {},
   "outputs": [],
   "source": [
    "role = sagemaker.get_execution_role()\n",
    "git_config=git_config = {\n",
    "    \"repo\": \"https://github.com/CrystalGazers/TAED2_CrystalGazers\",\n",
    "    \"branch\": \"training-scripts\",\n",
    "},"
   ]
  },
  {
   "cell_type": "code",
   "execution_count": null,
   "metadata": {},
   "outputs": [],
   "source": [
    "pytorch_estimator = PyTorch('SM_train_model.py',\n",
    "                            instance_type='ml.t3.medium',\n",
    "                            instance_count=1,\n",
    "                            framework_version='1.8.0',\n",
    "                            py_version='py3',\n",
    "                            role=role,\n",
    "                            git_config=git_config,\n",
    "                            hyperparameters = {'epochs': 4, 'batch-size': 2048, 'embedding_dim': 256})\n",
    "                            \n",
    "pytorch_estimator.fit({'train': 's3://my-data-bucket/path/to/my/training/data',\n",
    "                       'test': 's3://my-data-bucket/path/to/my/test/data'})"
   ]
  }
 ],
 "metadata": {
  "kernelspec": {
   "display_name": "Python 3.9.6 64-bit",
   "language": "python",
   "name": "python3"
  },
  "language_info": {
   "name": "python",
   "version": "3.9.6"
  },
  "orig_nbformat": 4,
  "vscode": {
   "interpreter": {
    "hash": "e096f617857432740e200d4afeb73474e977d0e98c70b355e6eaccd2218014ae"
   }
  }
 },
 "nbformat": 4,
 "nbformat_minor": 2
}
